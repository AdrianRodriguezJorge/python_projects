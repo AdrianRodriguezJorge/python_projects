{
 "cells": [
  {
   "cell_type": "code",
   "execution_count": 1,
   "metadata": {},
   "outputs": [
    {
     "name": "stdout",
     "output_type": "stream",
     "text": [
      "Camino más corto: [(0, 0), (1, 0), (2, 0), (3, 0), (4, 0), (4, 1), (4, 2), (4, 3), (4, 4)]\n"
     ]
    }
   ],
   "source": [
    "from collections import deque\n",
    "\n",
    "def is_valid_move(maze, visited, row, col):\n",
    "    rows = len(maze)\n",
    "    cols = len(maze[0])\n",
    "    return 0 <= row < rows and 0 <= col < cols and not visited[row][col] and maze[row][col] == 0\n",
    "\n",
    "def bfs_shortest_path(maze, start, end):\n",
    "    rows = len(maze)\n",
    "    cols = len(maze[0])\n",
    "    \n",
    "    # direcciones\n",
    "    directions = [(0, 1), (1, 0), (0, -1), (-1, 0)]\n",
    "    \n",
    "    queue = deque([(start, [start])])\n",
    "    \n",
    "    # visitados\n",
    "    visited = [[False for _ in range(cols)] for _ in range(rows)]\n",
    "    visited[start[0]][start[1]] = True\n",
    "    \n",
    "    while queue:\n",
    "        current_position, path = queue.popleft()\n",
    "        row, col = current_position\n",
    "        \n",
    "        if current_position == end:\n",
    "            return path\n",
    "        \n",
    "        # revisar todas las direcciones\n",
    "        for direction in directions:\n",
    "            next_row, next_col = row + direction[0], col + direction[1]\n",
    "            \n",
    "            if is_valid_move(maze, visited, next_row, next_col):\n",
    "                visited[next_row][next_col] = True\n",
    "                queue.append(((next_row, next_col), path + [(next_row, next_col)]))\n",
    "    \n",
    "    return None  \n",
    "\n",
    "# Ejemplo de uso\n",
    "maze = [\n",
    "    [0, 1, 0, 0, 0],\n",
    "    [0, 1, 0, 1, 0],\n",
    "    [0, 0, 0, 1, 0],\n",
    "    [0, 1, 1, 0, 0],\n",
    "    [0, 0, 0, 0, 0]\n",
    "]\n",
    "\n",
    "start = (0, 0)\n",
    "end = (4, 4)\n",
    "\n",
    "path = bfs_shortest_path(maze, start, end)\n",
    "\n",
    "print(\"Camino más corto:\", path)"
   ]
  }
 ],
 "metadata": {
  "kernelspec": {
   "display_name": "Python 3",
   "language": "python",
   "name": "python3"
  },
  "language_info": {
   "codemirror_mode": {
    "name": "ipython",
    "version": 3
   },
   "file_extension": ".py",
   "mimetype": "text/x-python",
   "name": "python",
   "nbconvert_exporter": "python",
   "pygments_lexer": "ipython3",
   "version": "3.8.10"
  }
 },
 "nbformat": 4,
 "nbformat_minor": 2
}
