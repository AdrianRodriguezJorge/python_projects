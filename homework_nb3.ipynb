{
 "cells": [
  {
   "cell_type": "markdown",
   "metadata": {},
   "source": [
    "Ejercicios\n",
    "\n",
    "1. Crear una clase Libro con atributos titulo, autor, y paginas. Incluir un método que imprima los detalles del libro.\n",
    "\n",
    "2. Crear una clase CuentaBancaria con atributos titular y saldo. Incluir métodos para depositar y retirar dinero, asegurando que el saldo no sea negativo después de un retiro.\n",
    "\n",
    "3. Crea un sistema de gestión de empleados que incluye diferentes tipos de empleados (por ejemplo, empleados de tiempo completo, empleados a medio tiempo y contratistas). Cada tipo de empleado debe tener su propia implementación para calcular el salario.\n",
    "\n",
    "    - Crea una clase base abstracta `Empleado` con métodos abstractos `calcular_salario` y `mostrar_informacion`.\n",
    "    - Crea clases derivadas `EmpleadoTiempoCompleto`, EmpleadoMedioTiempo y Contratista que implementen los métodos abstractos.\n",
    "    - Crea una función que reciba una lista de empleados y muestre la información y el salario de cada uno."
   ]
  },
  {
   "cell_type": "markdown",
   "metadata": {},
   "source": [
    "### Ejercicio 1"
   ]
  },
  {
   "cell_type": "code",
   "execution_count": 32,
   "metadata": {},
   "outputs": [
    {
     "name": "stdout",
     "output_type": "stream",
     "text": [
      "Título: Elantris, Autor: Brandon Sanderson, Páginas: 2500\n"
     ]
    }
   ],
   "source": [
    "class Libro:\n",
    "    def __init__(self, titulo, autor, paginas):\n",
    "        self.titulo = titulo\n",
    "        self.autor = autor\n",
    "        self.paginas = paginas\n",
    "    \n",
    "    def toString(self):\n",
    "        print(f\"Título: {self.titulo}, Autor: {self.autor}, Páginas: {self.paginas}\")\n",
    "        \n",
    "\n",
    "l = Libro(\"Elantris\", \"Brandon Sanderson\", 2500)\n",
    "l.toString()"
   ]
  },
  {
   "cell_type": "markdown",
   "metadata": {},
   "source": [
    "### Ejercicio 2"
   ]
  },
  {
   "cell_type": "code",
   "execution_count": 34,
   "metadata": {},
   "outputs": [
    {
     "name": "stdout",
     "output_type": "stream",
     "text": [
      "Su saldo actual es: 3000\n"
     ]
    }
   ],
   "source": [
    "class CuentaBancaria:\n",
    "    def __init__(self, titular, saldo):\n",
    "        self.titular = titular\n",
    "        self.saldo = saldo\n",
    "    \n",
    "    def depositar (self, cantidad):\n",
    "        self.saldo += cantidad\n",
    "    \n",
    "    def retirar (self, cantidad):\n",
    "        if self.saldo >= cantidad:\n",
    "            self.saldo -= cantidad\n",
    "            print(f\"Su saldo actual es: {self.saldo}\")\n",
    "        else:\n",
    "            print(f\"No es posible realizar el retiro\")\n",
    "            \n",
    "c = CuentaBancaria(\"Ad\", 3200)\n",
    "c.retirar(200)"
   ]
  },
  {
   "cell_type": "markdown",
   "metadata": {},
   "source": [
    "### Ejercicio 3"
   ]
  },
  {
   "cell_type": "code",
   "execution_count": 31,
   "metadata": {},
   "outputs": [
    {
     "name": "stdout",
     "output_type": "stream",
     "text": [
      "Nombre: EmpleadoA, Salario: 352000, Tipo: Empleado a tiempo completo\n",
      "Nombre: EmpleadoB, Salario: 288000, Tipo: Empleado a medio tiempo\n",
      "Nombre: EmpleadoC, Salario: 75000, Tipo: Contratista\n"
     ]
    }
   ],
   "source": [
    "from abc import ABC, abstractmethod\n",
    "            \n",
    "class Empleado (ABC): \n",
    "    def __init__(self, nombre, salarioBasico):\n",
    "        self.nombre = nombre\n",
    "        self.salarioBasico = salarioBasico\n",
    "        \n",
    "    @abstractmethod\n",
    "    def calcular_salario (self):\n",
    "        pass\n",
    "\n",
    "    @abstractmethod\n",
    "    def mostrar_informacion (self):\n",
    "        pass\n",
    "\n",
    "class EmpleadoTiempoCompleto (Empleado):\n",
    "    def calcular_salario (self):\n",
    "        return self.salarioBasico * 176\n",
    "    \n",
    "    def mostrar_informacion (self):\n",
    "        print(f\"Nombre: {self.nombre}, Salario: {self.calcular_salario()}, Tipo: Empleado a tiempo completo\")\n",
    "        pass\n",
    "\n",
    "class EmpleadoMedioTiempo (Empleado):\n",
    "    def __init__(self, nombre, salarioBasico, cantDiasSemanales):\n",
    "        super().__init__(nombre, salarioBasico)\n",
    "        self.cantDiasSemanales = cantDiasSemanales\n",
    "        \n",
    "    def calcular_salario (self):\n",
    "        return self.salarioBasico * self.cantDiasSemanales * 32\n",
    "    \n",
    "    def mostrar_informacion (self):\n",
    "        print(f\"Nombre: {self.nombre}, Salario: {self.calcular_salario()}, Tipo: Empleado a medio tiempo\")\n",
    "        pass\n",
    "    \n",
    "class Contratista (Empleado):\n",
    "    def __init__(self, nombre, salarioBasico, horasMensuales):\n",
    "        super().__init__(nombre, salarioBasico)\n",
    "        self.horasMensuales = horasMensuales\n",
    "        \n",
    "    def calcular_salario (self):\n",
    "        return self.salarioBasico * self.horasMensuales\n",
    "    \n",
    "    def mostrar_informacion (self):\n",
    "        print(f\"Nombre: {self.nombre}, Salario: {self.calcular_salario()}, Tipo: Contratista\")\n",
    "        pass\n",
    "\n",
    "\n",
    "def mostrarInfo (l: list):\n",
    "    for e in l:\n",
    "        e.mostrar_informacion()\n",
    "\n",
    "l = [EmpleadoTiempoCompleto(\"EmpleadoA\", 2000), EmpleadoMedioTiempo(\"EmpleadoB\", 3000, 3), Contratista(\"EmpleadoC\", 1000, 75)]\n",
    "\n",
    "mostrarInfo(l)"
   ]
  }
 ],
 "metadata": {
  "kernelspec": {
   "display_name": "Python 3",
   "language": "python",
   "name": "python3"
  },
  "language_info": {
   "codemirror_mode": {
    "name": "ipython",
    "version": 3
   },
   "file_extension": ".py",
   "mimetype": "text/x-python",
   "name": "python",
   "nbconvert_exporter": "python",
   "pygments_lexer": "ipython3",
   "version": "3.12.3"
  }
 },
 "nbformat": 4,
 "nbformat_minor": 2
}
